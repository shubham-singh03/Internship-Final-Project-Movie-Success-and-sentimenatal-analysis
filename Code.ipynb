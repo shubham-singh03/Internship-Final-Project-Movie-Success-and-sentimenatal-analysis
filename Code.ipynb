{
 "cells": [
  {
   "cell_type": "code",
   "execution_count": 1,
   "metadata": {
    "_cell_guid": "b1076dfc-b9ad-4769-8c92-a6c4dae69d19",
    "_uuid": "8f2839f25d086af736a60e9eeb907d3b93b6e0e5",
    "execution": {
     "iopub.execute_input": "2023-07-06T05:08:57.061224Z",
     "iopub.status.busy": "2023-07-06T05:08:57.060047Z",
     "iopub.status.idle": "2023-07-06T05:08:57.073858Z",
     "shell.execute_reply": "2023-07-06T05:08:57.074454Z",
     "shell.execute_reply.started": "2023-07-06T04:38:54.851731Z"
    },
    "papermill": {
     "duration": 0.047778,
     "end_time": "2023-07-06T05:08:57.074669",
     "exception": false,
     "start_time": "2023-07-06T05:08:57.026891",
     "status": "completed"
    },
    "tags": []
   },
   "outputs": [
    {
     "name": "stdout",
     "output_type": "stream",
     "text": [
      "/kaggle/input/predict-movie-success-rate/movie_success_rate.csv\n"
     ]
    }
   ],
   "source": [
    "import numpy as np \n",
    "import pandas as pd \n",
    "\n",
    "import os\n",
    "for dirname, _, filenames in os.walk('/kaggle/input'):\n",
    "    for filename in filenames:\n",
    "        print(os.path.join(dirname, filename))"
   ]
  },
  {
   "cell_type": "code",
   "execution_count": 2,
   "metadata": {
    "execution": {
     "iopub.execute_input": "2023-07-06T05:08:57.137778Z",
     "iopub.status.busy": "2023-07-06T05:08:57.136989Z",
     "iopub.status.idle": "2023-07-06T05:08:57.166957Z",
     "shell.execute_reply": "2023-07-06T05:08:57.167763Z",
     "shell.execute_reply.started": "2023-07-06T04:38:56.876624Z"
    },
    "papermill": {
     "duration": 0.062087,
     "end_time": "2023-07-06T05:08:57.168077",
     "exception": false,
     "start_time": "2023-07-06T05:08:57.105990",
     "status": "completed"
    },
    "tags": []
   },
   "outputs": [],
   "source": [
    "df = pd.read_csv('/kaggle/input/predict-movie-success-rate/movie_success_rate.csv')"
   ]
  },
  {
   "cell_type": "code",
   "execution_count": 3,
   "metadata": {
    "execution": {
     "iopub.execute_input": "2023-07-06T05:08:57.229541Z",
     "iopub.status.busy": "2023-07-06T05:08:57.228813Z",
     "iopub.status.idle": "2023-07-06T05:08:57.279619Z",
     "shell.execute_reply": "2023-07-06T05:08:57.278782Z",
     "shell.execute_reply.started": "2023-07-06T04:38:59.071397Z"
    },
    "papermill": {
     "duration": 0.081776,
     "end_time": "2023-07-06T05:08:57.279759",
     "exception": false,
     "start_time": "2023-07-06T05:08:57.197983",
     "status": "completed"
    },
    "tags": []
   },
   "outputs": [
    {
     "data": {
      "text/html": [
       "<div>\n",
       "<style scoped>\n",
       "    .dataframe tbody tr th:only-of-type {\n",
       "        vertical-align: middle;\n",
       "    }\n",
       "\n",
       "    .dataframe tbody tr th {\n",
       "        vertical-align: top;\n",
       "    }\n",
       "\n",
       "    .dataframe thead th {\n",
       "        text-align: right;\n",
       "    }\n",
       "</style>\n",
       "<table border=\"1\" class=\"dataframe\">\n",
       "  <thead>\n",
       "    <tr style=\"text-align: right;\">\n",
       "      <th></th>\n",
       "      <th>Rank</th>\n",
       "      <th>Title</th>\n",
       "      <th>Genre</th>\n",
       "      <th>Description</th>\n",
       "      <th>Director</th>\n",
       "      <th>Actors</th>\n",
       "      <th>Year</th>\n",
       "      <th>Runtime (Minutes)</th>\n",
       "      <th>Rating</th>\n",
       "      <th>Votes</th>\n",
       "      <th>...</th>\n",
       "      <th>Music</th>\n",
       "      <th>Musical</th>\n",
       "      <th>Mystery</th>\n",
       "      <th>Romance</th>\n",
       "      <th>Sci-Fi</th>\n",
       "      <th>Sport</th>\n",
       "      <th>Thriller</th>\n",
       "      <th>War</th>\n",
       "      <th>Western</th>\n",
       "      <th>Success</th>\n",
       "    </tr>\n",
       "  </thead>\n",
       "  <tbody>\n",
       "    <tr>\n",
       "      <th>0</th>\n",
       "      <td>1.0</td>\n",
       "      <td>Guardians of the Galaxy</td>\n",
       "      <td>Action,Adventure,Sci-Fi</td>\n",
       "      <td>A group of intergalactic criminals are forced ...</td>\n",
       "      <td>James Gunn</td>\n",
       "      <td>Chris Pratt, Vin Diesel, Bradley Cooper, Zoe S...</td>\n",
       "      <td>2014.0</td>\n",
       "      <td>121.0</td>\n",
       "      <td>8.1</td>\n",
       "      <td>757074.0</td>\n",
       "      <td>...</td>\n",
       "      <td>0.0</td>\n",
       "      <td>0.0</td>\n",
       "      <td>0.0</td>\n",
       "      <td>0.0</td>\n",
       "      <td>1.0</td>\n",
       "      <td>0.0</td>\n",
       "      <td>0.0</td>\n",
       "      <td>0.0</td>\n",
       "      <td>0.0</td>\n",
       "      <td>1.0</td>\n",
       "    </tr>\n",
       "    <tr>\n",
       "      <th>1</th>\n",
       "      <td>2.0</td>\n",
       "      <td>Prometheus</td>\n",
       "      <td>Adventure,Mystery,Sci-Fi</td>\n",
       "      <td>Following clues to the origin of mankind, a te...</td>\n",
       "      <td>Ridley Scott</td>\n",
       "      <td>Noomi Rapace, Logan Marshall-Green, Michael Fa...</td>\n",
       "      <td>2012.0</td>\n",
       "      <td>124.0</td>\n",
       "      <td>7.0</td>\n",
       "      <td>485820.0</td>\n",
       "      <td>...</td>\n",
       "      <td>0.0</td>\n",
       "      <td>0.0</td>\n",
       "      <td>1.0</td>\n",
       "      <td>0.0</td>\n",
       "      <td>1.0</td>\n",
       "      <td>0.0</td>\n",
       "      <td>0.0</td>\n",
       "      <td>0.0</td>\n",
       "      <td>0.0</td>\n",
       "      <td>1.0</td>\n",
       "    </tr>\n",
       "    <tr>\n",
       "      <th>2</th>\n",
       "      <td>3.0</td>\n",
       "      <td>Split</td>\n",
       "      <td>Horror,Thriller</td>\n",
       "      <td>Three girls are kidnapped by a man with a diag...</td>\n",
       "      <td>M. Night Shyamalan</td>\n",
       "      <td>James McAvoy, Anya Taylor-Joy, Haley Lu Richar...</td>\n",
       "      <td>2016.0</td>\n",
       "      <td>117.0</td>\n",
       "      <td>7.3</td>\n",
       "      <td>157606.0</td>\n",
       "      <td>...</td>\n",
       "      <td>0.0</td>\n",
       "      <td>0.0</td>\n",
       "      <td>0.0</td>\n",
       "      <td>0.0</td>\n",
       "      <td>0.0</td>\n",
       "      <td>0.0</td>\n",
       "      <td>1.0</td>\n",
       "      <td>0.0</td>\n",
       "      <td>0.0</td>\n",
       "      <td>0.0</td>\n",
       "    </tr>\n",
       "    <tr>\n",
       "      <th>3</th>\n",
       "      <td>4.0</td>\n",
       "      <td>Sing</td>\n",
       "      <td>Animation,Comedy,Family</td>\n",
       "      <td>In a city of humanoid animals, a hustling thea...</td>\n",
       "      <td>Christophe Lourdelet</td>\n",
       "      <td>Matthew McConaughey,Reese Witherspoon, Seth Ma...</td>\n",
       "      <td>2016.0</td>\n",
       "      <td>108.0</td>\n",
       "      <td>7.2</td>\n",
       "      <td>60545.0</td>\n",
       "      <td>...</td>\n",
       "      <td>0.0</td>\n",
       "      <td>0.0</td>\n",
       "      <td>0.0</td>\n",
       "      <td>0.0</td>\n",
       "      <td>0.0</td>\n",
       "      <td>0.0</td>\n",
       "      <td>0.0</td>\n",
       "      <td>0.0</td>\n",
       "      <td>0.0</td>\n",
       "      <td>0.0</td>\n",
       "    </tr>\n",
       "    <tr>\n",
       "      <th>4</th>\n",
       "      <td>5.0</td>\n",
       "      <td>Suicide Squad</td>\n",
       "      <td>Action,Adventure,Fantasy</td>\n",
       "      <td>A secret government agency recruits some of th...</td>\n",
       "      <td>David Ayer</td>\n",
       "      <td>Will Smith, Jared Leto, Margot Robbie, Viola D...</td>\n",
       "      <td>2016.0</td>\n",
       "      <td>123.0</td>\n",
       "      <td>6.2</td>\n",
       "      <td>393727.0</td>\n",
       "      <td>...</td>\n",
       "      <td>0.0</td>\n",
       "      <td>0.0</td>\n",
       "      <td>0.0</td>\n",
       "      <td>0.0</td>\n",
       "      <td>0.0</td>\n",
       "      <td>0.0</td>\n",
       "      <td>0.0</td>\n",
       "      <td>0.0</td>\n",
       "      <td>0.0</td>\n",
       "      <td>0.0</td>\n",
       "    </tr>\n",
       "  </tbody>\n",
       "</table>\n",
       "<p>5 rows × 33 columns</p>\n",
       "</div>"
      ],
      "text/plain": [
       "   Rank                    Title                     Genre  \\\n",
       "0   1.0  Guardians of the Galaxy   Action,Adventure,Sci-Fi   \n",
       "1   2.0               Prometheus  Adventure,Mystery,Sci-Fi   \n",
       "2   3.0                    Split           Horror,Thriller   \n",
       "3   4.0                     Sing   Animation,Comedy,Family   \n",
       "4   5.0            Suicide Squad  Action,Adventure,Fantasy   \n",
       "\n",
       "                                         Description              Director  \\\n",
       "0  A group of intergalactic criminals are forced ...            James Gunn   \n",
       "1  Following clues to the origin of mankind, a te...          Ridley Scott   \n",
       "2  Three girls are kidnapped by a man with a diag...    M. Night Shyamalan   \n",
       "3  In a city of humanoid animals, a hustling thea...  Christophe Lourdelet   \n",
       "4  A secret government agency recruits some of th...            David Ayer   \n",
       "\n",
       "                                              Actors    Year  \\\n",
       "0  Chris Pratt, Vin Diesel, Bradley Cooper, Zoe S...  2014.0   \n",
       "1  Noomi Rapace, Logan Marshall-Green, Michael Fa...  2012.0   \n",
       "2  James McAvoy, Anya Taylor-Joy, Haley Lu Richar...  2016.0   \n",
       "3  Matthew McConaughey,Reese Witherspoon, Seth Ma...  2016.0   \n",
       "4  Will Smith, Jared Leto, Margot Robbie, Viola D...  2016.0   \n",
       "\n",
       "   Runtime (Minutes)  Rating     Votes  ...  Music  Musical  Mystery  Romance  \\\n",
       "0              121.0     8.1  757074.0  ...    0.0      0.0      0.0      0.0   \n",
       "1              124.0     7.0  485820.0  ...    0.0      0.0      1.0      0.0   \n",
       "2              117.0     7.3  157606.0  ...    0.0      0.0      0.0      0.0   \n",
       "3              108.0     7.2   60545.0  ...    0.0      0.0      0.0      0.0   \n",
       "4              123.0     6.2  393727.0  ...    0.0      0.0      0.0      0.0   \n",
       "\n",
       "   Sci-Fi  Sport  Thriller  War  Western  Success  \n",
       "0     1.0    0.0       0.0  0.0      0.0      1.0  \n",
       "1     1.0    0.0       0.0  0.0      0.0      1.0  \n",
       "2     0.0    0.0       1.0  0.0      0.0      0.0  \n",
       "3     0.0    0.0       0.0  0.0      0.0      0.0  \n",
       "4     0.0    0.0       0.0  0.0      0.0      0.0  \n",
       "\n",
       "[5 rows x 33 columns]"
      ]
     },
     "execution_count": 3,
     "metadata": {},
     "output_type": "execute_result"
    }
   ],
   "source": [
    "df.head()"
   ]
  },
  {
   "cell_type": "code",
   "execution_count": 4,
   "metadata": {
    "execution": {
     "iopub.execute_input": "2023-07-06T05:08:57.344312Z",
     "iopub.status.busy": "2023-07-06T05:08:57.343502Z",
     "iopub.status.idle": "2023-07-06T05:08:57.348408Z",
     "shell.execute_reply": "2023-07-06T05:08:57.347763Z",
     "shell.execute_reply.started": "2023-07-06T04:39:04.141344Z"
    },
    "papermill": {
     "duration": 0.039956,
     "end_time": "2023-07-06T05:08:57.348538",
     "exception": false,
     "start_time": "2023-07-06T05:08:57.308582",
     "status": "completed"
    },
    "tags": []
   },
   "outputs": [
    {
     "data": {
      "text/plain": [
       "Index(['Rank', 'Title', 'Genre', 'Description', 'Director', 'Actors', 'Year',\n",
       "       'Runtime (Minutes)', 'Rating', 'Votes', 'Revenue (Millions)',\n",
       "       'Metascore', 'Action', 'Adventure', 'Aniimation', 'Biography', 'Comedy',\n",
       "       'Crime', 'Drama', 'Family', 'Fantasy', 'History', 'Horror', 'Music',\n",
       "       'Musical', 'Mystery', 'Romance', 'Sci-Fi', 'Sport', 'Thriller', 'War',\n",
       "       'Western', 'Success'],\n",
       "      dtype='object')"
      ]
     },
     "execution_count": 4,
     "metadata": {},
     "output_type": "execute_result"
    }
   ],
   "source": [
    "df.columns"
   ]
  },
  {
   "cell_type": "code",
   "execution_count": 5,
   "metadata": {
    "execution": {
     "iopub.execute_input": "2023-07-06T05:08:57.418452Z",
     "iopub.status.busy": "2023-07-06T05:08:57.417556Z",
     "iopub.status.idle": "2023-07-06T05:08:57.423326Z",
     "shell.execute_reply": "2023-07-06T05:08:57.422515Z",
     "shell.execute_reply.started": "2023-07-06T04:39:07.031100Z"
    },
    "papermill": {
     "duration": 0.045638,
     "end_time": "2023-07-06T05:08:57.423463",
     "exception": false,
     "start_time": "2023-07-06T05:08:57.377825",
     "status": "completed"
    },
    "tags": []
   },
   "outputs": [
    {
     "data": {
      "text/plain": [
       "Action,Adventure,Sci-Fi     50\n",
       "Comedy,Drama,Romance        30\n",
       "Drama                       29\n",
       "Drama,Romance               27\n",
       "Comedy                      26\n",
       "                            ..\n",
       "Action,Crime,Sci-Fi          1\n",
       "Drama,Western                1\n",
       "Mystery,Romance,Thriller     1\n",
       "Action,Horror,Romance        1\n",
       "Action,Fantasy,War           1\n",
       "Name: Genre, Length: 189, dtype: int64"
      ]
     },
     "execution_count": 5,
     "metadata": {},
     "output_type": "execute_result"
    }
   ],
   "source": [
    "df['Genre'].value_counts()"
   ]
  },
  {
   "cell_type": "code",
   "execution_count": 6,
   "metadata": {
    "execution": {
     "iopub.execute_input": "2023-07-06T05:08:57.495867Z",
     "iopub.status.busy": "2023-07-06T05:08:57.491945Z",
     "iopub.status.idle": "2023-07-06T05:08:57.501544Z",
     "shell.execute_reply": "2023-07-06T05:08:57.500848Z",
     "shell.execute_reply.started": "2023-07-06T04:39:10.351346Z"
    },
    "papermill": {
     "duration": 0.048079,
     "end_time": "2023-07-06T05:08:57.501682",
     "exception": false,
     "start_time": "2023-07-06T05:08:57.453603",
     "status": "completed"
    },
    "tags": []
   },
   "outputs": [
    {
     "data": {
      "text/plain": [
       "Ridley Scott          8\n",
       "Paul W.S. Anderson    6\n",
       "David Yates           6\n",
       "Michael Bay           6\n",
       "Woody Allen           5\n",
       "                     ..\n",
       "Andrés Muschietti     1\n",
       "Bennett Miller        1\n",
       "Christopher Landon    1\n",
       "Kevin Lima            1\n",
       "Ericson Core          1\n",
       "Name: Director, Length: 524, dtype: int64"
      ]
     },
     "execution_count": 6,
     "metadata": {},
     "output_type": "execute_result"
    }
   ],
   "source": [
    "df['Director'].value_counts()"
   ]
  },
  {
   "cell_type": "code",
   "execution_count": 7,
   "metadata": {
    "execution": {
     "iopub.execute_input": "2023-07-06T05:08:57.573385Z",
     "iopub.status.busy": "2023-07-06T05:08:57.572209Z",
     "iopub.status.idle": "2023-07-06T05:08:57.584202Z",
     "shell.execute_reply": "2023-07-06T05:08:57.583342Z",
     "shell.execute_reply.started": "2023-07-06T04:39:12.781291Z"
    },
    "papermill": {
     "duration": 0.050639,
     "end_time": "2023-07-06T05:08:57.584345",
     "exception": false,
     "start_time": "2023-07-06T05:08:57.533706",
     "status": "completed"
    },
    "tags": []
   },
   "outputs": [
    {
     "data": {
      "text/plain": [
       "Jennifer Lawrence, Josh Hutcherson, Liam Hemsworth, Woody Harrelson    2\n",
       "Gerard Butler, Aaron Eckhart, Morgan Freeman,Angela Bassett            2\n",
       "Shia LaBeouf, Megan Fox, Josh Duhamel, Tyrese Gibson                   2\n",
       "Daniel Radcliffe, Emma Watson, Rupert Grint, Michael Gambon            2\n",
       "Justin Chatwin, James Marsters, Yun-Fat Chow, Emmy Rossum              1\n",
       "                                                                      ..\n",
       "David Oyelowo, Rosamund Pike, Tom Felton, Jack Davenport               1\n",
       "Cate Blanchett, Alec Baldwin, Peter Sarsgaard, Sally Hawkins           1\n",
       "Zac Efron, Wes Bentley, Emily Ratajkowski, Jonny Weston                1\n",
       "James Franco, Amber Tamblyn, Kate Mara, Sean Bott                      1\n",
       "Reese Witherspoon, Laura Dern, Gaby Hoffmann,Michiel Huisman           1\n",
       "Name: Actors, Length: 834, dtype: int64"
      ]
     },
     "execution_count": 7,
     "metadata": {},
     "output_type": "execute_result"
    }
   ],
   "source": [
    "df['Actors'].value_counts()"
   ]
  },
  {
   "cell_type": "code",
   "execution_count": 8,
   "metadata": {
    "execution": {
     "iopub.execute_input": "2023-07-06T05:08:57.654080Z",
     "iopub.status.busy": "2023-07-06T05:08:57.653094Z",
     "iopub.status.idle": "2023-07-06T05:08:59.348437Z",
     "shell.execute_reply": "2023-07-06T05:08:59.347765Z",
     "shell.execute_reply.started": "2023-07-06T04:39:15.981063Z"
    },
    "papermill": {
     "duration": 1.732194,
     "end_time": "2023-07-06T05:08:59.348583",
     "exception": false,
     "start_time": "2023-07-06T05:08:57.616389",
     "status": "completed"
    },
    "tags": []
   },
   "outputs": [
    {
     "data": {
      "text/plain": [
       "<matplotlib.axes._subplots.AxesSubplot at 0x7f5536c25f90>"
      ]
     },
     "execution_count": 8,
     "metadata": {},
     "output_type": "execute_result"
    },
    {
     "data": {
      "image/png": "[encoded data removed]",
      "text/plain": [
       "<Figure size 432x288 with 2 Axes>"
      ]
     },
     "metadata": {
      "needs_background": "light"
     },
     "output_type": "display_data"
    }
   ],
   "source": [
    "import seaborn as sns\n",
    "sns.heatmap(df.isnull())"
   ]
  },
  {
   "cell_type": "code",
   "execution_count": 9,
   "metadata": {
    "execution": {
     "iopub.execute_input": "2023-07-06T05:08:59.437127Z",
     "iopub.status.busy": "2023-07-06T05:08:59.436289Z",
     "iopub.status.idle": "2023-07-06T05:08:59.461487Z",
     "shell.execute_reply": "2023-07-06T05:08:59.460312Z",
     "shell.execute_reply.started": "2023-07-06T04:39:19.671526Z"
    },
    "papermill": {
     "duration": 0.081671,
     "end_time": "2023-07-06T05:08:59.461735",
     "exception": false,
     "start_time": "2023-07-06T05:08:59.380064",
     "status": "completed"
    },
    "tags": []
   },
   "outputs": [],
   "source": [
    "df = df.fillna(df.median())"
   ]
  },
  {
   "cell_type": "code",
   "execution_count": 10,
   "metadata": {
    "execution": {
     "iopub.execute_input": "2023-07-06T05:08:59.535287Z",
     "iopub.status.busy": "2023-07-06T05:08:59.534509Z",
     "iopub.status.idle": "2023-07-06T05:08:59.541893Z",
     "shell.execute_reply": "2023-07-06T05:08:59.542483Z",
     "shell.execute_reply.started": "2023-07-06T04:39:21.521368Z"
    },
    "papermill": {
     "duration": 0.044469,
     "end_time": "2023-07-06T05:08:59.542675",
     "exception": false,
     "start_time": "2023-07-06T05:08:59.498206",
     "status": "completed"
    },
    "tags": []
   },
   "outputs": [
    {
     "data": {
      "text/plain": [
       "Index(['Rank', 'Title', 'Genre', 'Description', 'Director', 'Actors', 'Year',\n",
       "       'Runtime (Minutes)', 'Rating', 'Votes', 'Revenue (Millions)',\n",
       "       'Metascore', 'Action', 'Adventure', 'Aniimation', 'Biography', 'Comedy',\n",
       "       'Crime', 'Drama', 'Family', 'Fantasy', 'History', 'Horror', 'Music',\n",
       "       'Musical', 'Mystery', 'Romance', 'Sci-Fi', 'Sport', 'Thriller', 'War',\n",
       "       'Western', 'Success'],\n",
       "      dtype='object')"
      ]
     },
     "execution_count": 10,
     "metadata": {},
     "output_type": "execute_result"
    }
   ],
   "source": [
    "df.columns"
   ]
  },
  {
   "cell_type": "code",
   "execution_count": 11,
   "metadata": {
    "execution": {
     "iopub.execute_input": "2023-07-06T05:08:59.618768Z",
     "iopub.status.busy": "2023-07-06T05:08:59.617980Z",
     "iopub.status.idle": "2023-07-06T05:08:59.621568Z",
     "shell.execute_reply": "2023-07-06T05:08:59.620757Z",
     "shell.execute_reply.started": "2023-07-06T04:39:24.386196Z"
    },
    "papermill": {
     "duration": 0.046733,
     "end_time": "2023-07-06T05:08:59.621701",
     "exception": false,
     "start_time": "2023-07-06T05:08:59.574968",
     "status": "completed"
    },
    "tags": []
   },
   "outputs": [],
   "source": [
    "x = df[['Year',\n",
    "       'Runtime (Minutes)', 'Rating', 'Votes', 'Revenue (Millions)',\n",
    "       'Metascore', 'Action', 'Adventure', 'Aniimation', 'Biography', 'Comedy',\n",
    "       'Crime', 'Drama', 'Family', 'Fantasy', 'History', 'Horror', 'Music',\n",
    "       'Musical', 'Mystery', 'Romance', 'Sci-Fi', 'Sport', 'Thriller', 'War',\n",
    "       'Western']]\n",
    "y = df['Success']\n"
   ]
  },
  {
   "cell_type": "code",
   "execution_count": 12,
   "metadata": {
    "execution": {
     "iopub.execute_input": "2023-07-06T05:08:59.695314Z",
     "iopub.status.busy": "2023-07-06T05:08:59.694469Z",
     "iopub.status.idle": "2023-07-06T05:08:59.835627Z",
     "shell.execute_reply": "2023-07-06T05:08:59.834934Z",
     "shell.execute_reply.started": "2023-07-06T04:39:27.396238Z"
    },
    "papermill": {
     "duration": 0.179358,
     "end_time": "2023-07-06T05:08:59.835767",
     "exception": false,
     "start_time": "2023-07-06T05:08:59.656409",
     "status": "completed"
    },
    "tags": []
   },
   "outputs": [],
   "source": [
    "from sklearn.model_selection import train_test_split\n",
    "x_train,x_test,y_train,y_test= train_test_split(x,y,test_size=0.1,stratify=y)"
   ]
  },
  {
   "cell_type": "code",
   "execution_count": 13,
   "metadata": {
    "execution": {
     "iopub.execute_input": "2023-07-06T05:08:59.907221Z",
     "iopub.status.busy": "2023-07-06T05:08:59.906421Z",
     "iopub.status.idle": "2023-07-06T05:09:00.062363Z",
     "shell.execute_reply": "2023-07-06T05:09:00.061594Z",
     "shell.execute_reply.started": "2023-07-06T04:39:29.543149Z"
    },
    "papermill": {
     "duration": 0.194244,
     "end_time": "2023-07-06T05:09:00.062531",
     "exception": false,
     "start_time": "2023-07-06T05:08:59.868287",
     "status": "completed"
    },
    "tags": []
   },
   "outputs": [
    {
     "data": {
      "text/plain": [
       "LogisticRegression()"
      ]
     },
     "execution_count": 13,
     "metadata": {},
     "output_type": "execute_result"
    }
   ],
   "source": [
    "from sklearn.linear_model import LogisticRegression\n",
    "log = LogisticRegression()\n",
    "log.fit(x_train,y_train)"
   ]
  },
  {
   "cell_type": "code",
   "execution_count": 14,
   "metadata": {
    "execution": {
     "iopub.execute_input": "2023-07-06T05:09:00.143395Z",
     "iopub.status.busy": "2023-07-06T05:09:00.142609Z",
     "iopub.status.idle": "2023-07-06T05:09:00.147216Z",
     "shell.execute_reply": "2023-07-06T05:09:00.147889Z",
     "shell.execute_reply.started": "2023-07-06T04:39:31.571391Z"
    },
    "papermill": {
     "duration": 0.047867,
     "end_time": "2023-07-06T05:09:00.148053",
     "exception": false,
     "start_time": "2023-07-06T05:09:00.100186",
     "status": "completed"
    },
    "tags": []
   },
   "outputs": [
    {
     "data": {
      "text/plain": [
       "0.9166666666666666"
      ]
     },
     "execution_count": 14,
     "metadata": {},
     "output_type": "execute_result"
    }
   ],
   "source": [
    "log.score(x_test,y_test)"
   ]
  },
  {
   "cell_type": "code",
   "execution_count": 15,
   "metadata": {
    "execution": {
     "iopub.execute_input": "2023-07-06T05:09:00.219057Z",
     "iopub.status.busy": "2023-07-06T05:09:00.218231Z",
     "iopub.status.idle": "2023-07-06T05:09:00.230336Z",
     "shell.execute_reply": "2023-07-06T05:09:00.231284Z",
     "shell.execute_reply.started": "2023-07-06T04:39:33.911967Z"
    },
    "papermill": {
     "duration": 0.0494,
     "end_time": "2023-07-06T05:09:00.231494",
     "exception": false,
     "start_time": "2023-07-06T05:09:00.182094",
     "status": "completed"
    },
    "tags": []
   },
   "outputs": [],
   "source": [
    "from sklearn.metrics import confusion_matrix\n",
    "clf = confusion_matrix(y_test,log.predict(x_test))"
   ]
  },
  {
   "cell_type": "code",
   "execution_count": 16,
   "metadata": {
    "execution": {
     "iopub.execute_input": "2023-07-06T05:09:00.304466Z",
     "iopub.status.busy": "2023-07-06T05:09:00.303391Z",
     "iopub.status.idle": "2023-07-06T05:09:00.512618Z",
     "shell.execute_reply": "2023-07-06T05:09:00.511767Z",
     "shell.execute_reply.started": "2023-07-06T04:39:35.911285Z"
    },
    "papermill": {
     "duration": 0.246974,
     "end_time": "2023-07-06T05:09:00.512755",
     "exception": false,
     "start_time": "2023-07-06T05:09:00.265781",
     "status": "completed"
    },
    "tags": []
   },
   "outputs": [
    {
     "data": {
      "text/plain": [
       "<matplotlib.axes._subplots.AxesSubplot at 0x7f55332ae2d0>"
      ]
     },
     "execution_count": 16,
     "metadata": {},
     "output_type": "execute_result"
    },
    {
     "data": {
      "image/png": "[encoded data removed]",
      "text/plain": [
       "<Figure size 432x288 with 2 Axes>"
      ]
     },
     "metadata": {
      "needs_background": "light"
     },
     "output_type": "display_data"
    }
   ],
   "source": [
    "sns.heatmap(clf,annot=True)"
   ]
  },
  {
   "cell_type": "code",
   "execution_count": 17,
   "metadata": {
    "execution": {
     "iopub.execute_input": "2023-07-06T05:09:00.588854Z",
     "iopub.status.busy": "2023-07-06T05:09:00.588075Z",
     "iopub.status.idle": "2023-07-06T05:09:00.592375Z",
     "shell.execute_reply": "2023-07-06T05:09:00.591718Z",
     "shell.execute_reply.started": "2023-07-06T04:39:38.741192Z"
    },
    "papermill": {
     "duration": 0.044823,
     "end_time": "2023-07-06T05:09:00.592519",
     "exception": false,
     "start_time": "2023-07-06T05:09:00.547696",
     "status": "completed"
    },
    "tags": []
   },
   "outputs": [],
   "source": [
    "x_train_opt = x_train.copy()\n",
    "x_test_opt = x_test.copy()"
   ]
  },
  {
   "cell_type": "code",
   "execution_count": 18,
   "metadata": {
    "execution": {
     "iopub.execute_input": "2023-07-06T05:09:00.665686Z",
     "iopub.status.busy": "2023-07-06T05:09:00.664695Z",
     "iopub.status.idle": "2023-07-06T05:09:00.682123Z",
     "shell.execute_reply": "2023-07-06T05:09:00.682696Z",
     "shell.execute_reply.started": "2023-07-06T04:21:19.382071Z"
    },
    "papermill": {
     "duration": 0.055014,
     "end_time": "2023-07-06T05:09:00.682917",
     "exception": false,
     "start_time": "2023-07-06T05:09:00.627903",
     "status": "completed"
    },
    "tags": []
   },
   "outputs": [],
   "source": [
    "from sklearn.preprocessing import StandardScaler\n",
    "x_train_opt = StandardScaler().fit_transform(x_train_opt)\n",
    "x_test_opt = StandardScaler().fit_transform(x_test_opt)"
   ]
  },
  {
   "cell_type": "code",
   "execution_count": 19,
   "metadata": {
    "execution": {
     "iopub.execute_input": "2023-07-06T05:09:00.758153Z",
     "iopub.status.busy": "2023-07-06T05:09:00.757378Z",
     "iopub.status.idle": "2023-07-06T05:09:00.779589Z",
     "shell.execute_reply": "2023-07-06T05:09:00.780230Z",
     "shell.execute_reply.started": "2023-07-06T04:21:21.061522Z"
    },
    "papermill": {
     "duration": 0.062775,
     "end_time": "2023-07-06T05:09:00.780402",
     "exception": false,
     "start_time": "2023-07-06T05:09:00.717627",
     "status": "completed"
    },
    "tags": []
   },
   "outputs": [
    {
     "data": {
      "text/plain": [
       "LogisticRegression()"
      ]
     },
     "execution_count": 19,
     "metadata": {},
     "output_type": "execute_result"
    }
   ],
   "source": [
    "log.fit(x_train_opt,y_train)"
   ]
  },
  {
   "cell_type": "code",
   "execution_count": 20,
   "metadata": {
    "execution": {
     "iopub.execute_input": "2023-07-06T05:09:00.854362Z",
     "iopub.status.busy": "2023-07-06T05:09:00.853560Z",
     "iopub.status.idle": "2023-07-06T05:09:00.861744Z",
     "shell.execute_reply": "2023-07-06T05:09:00.862486Z",
     "shell.execute_reply.started": "2023-07-06T04:21:23.021791Z"
    },
    "papermill": {
     "duration": 0.047462,
     "end_time": "2023-07-06T05:09:00.862649",
     "exception": false,
     "start_time": "2023-07-06T05:09:00.815187",
     "status": "completed"
    },
    "tags": []
   },
   "outputs": [
    {
     "data": {
      "text/plain": [
       "0.9047619047619048"
      ]
     },
     "execution_count": 20,
     "metadata": {},
     "output_type": "execute_result"
    }
   ],
   "source": [
    "log.score(x_test_opt,y_test)"
   ]
  },
  {
   "cell_type": "code",
   "execution_count": 21,
   "metadata": {
    "execution": {
     "iopub.execute_input": "2023-07-06T05:09:00.936567Z",
     "iopub.status.busy": "2023-07-06T05:09:00.935647Z",
     "iopub.status.idle": "2023-07-06T05:09:01.127000Z",
     "shell.execute_reply": "2023-07-06T05:09:01.126181Z",
     "shell.execute_reply.started": "2023-07-06T04:21:39.147267Z"
    },
    "papermill": {
     "duration": 0.229789,
     "end_time": "2023-07-06T05:09:01.127144",
     "exception": false,
     "start_time": "2023-07-06T05:09:00.897355",
     "status": "completed"
    },
    "tags": []
   },
   "outputs": [
    {
     "data": {
      "text/plain": [
       "KNeighborsClassifier(n_neighbors=40)"
      ]
     },
     "execution_count": 21,
     "metadata": {},
     "output_type": "execute_result"
    }
   ],
   "source": [
    "from sklearn.neighbors import KNeighborsClassifier\n",
    "kn = KNeighborsClassifier(n_neighbors=40)\n",
    "kn.fit(x_train,y_train)"
   ]
  },
  {
   "cell_type": "code",
   "execution_count": 22,
   "metadata": {
    "execution": {
     "iopub.execute_input": "2023-07-06T05:09:01.207029Z",
     "iopub.status.busy": "2023-07-06T05:09:01.206061Z",
     "iopub.status.idle": "2023-07-06T05:09:01.219963Z",
     "shell.execute_reply": "2023-07-06T05:09:01.219150Z",
     "shell.execute_reply.started": "2023-07-06T04:21:48.071730Z"
    },
    "papermill": {
     "duration": 0.058004,
     "end_time": "2023-07-06T05:09:01.220114",
     "exception": false,
     "start_time": "2023-07-06T05:09:01.162110",
     "status": "completed"
    },
    "tags": []
   },
   "outputs": [
    {
     "data": {
      "text/plain": [
       "0.9166666666666666"
      ]
     },
     "execution_count": 22,
     "metadata": {},
     "output_type": "execute_result"
    }
   ],
   "source": [
    "kn.score(x_test,y_test)"
   ]
  },
  {
   "cell_type": "code",
   "execution_count": 23,
   "metadata": {
    "execution": {
     "iopub.execute_input": "2023-07-06T05:09:01.302944Z",
     "iopub.status.busy": "2023-07-06T05:09:01.301908Z",
     "iopub.status.idle": "2023-07-06T05:09:01.354055Z",
     "shell.execute_reply": "2023-07-06T05:09:01.353237Z",
     "shell.execute_reply.started": "2023-07-06T04:21:54.071996Z"
    },
    "papermill": {
     "duration": 0.096768,
     "end_time": "2023-07-06T05:09:01.354190",
     "exception": false,
     "start_time": "2023-07-06T05:09:01.257422",
     "status": "completed"
    },
    "tags": []
   },
   "outputs": [
    {
     "data": {
      "text/plain": [
       "1.0"
      ]
     },
     "execution_count": 23,
     "metadata": {},
     "output_type": "execute_result"
    }
   ],
   "source": [
    "from sklearn.tree import DecisionTreeClassifier\n",
    "tree = DecisionTreeClassifier()\n",
    "tree.fit(x_train,y_train)\n",
    "tree.score(x_test,y_test)"
   ]
  },
  {
   "cell_type": "code",
   "execution_count": 24,
   "metadata": {
    "execution": {
     "iopub.execute_input": "2023-07-06T05:09:01.440022Z",
     "iopub.status.busy": "2023-07-06T05:09:01.438765Z",
     "iopub.status.idle": "2023-07-06T05:09:01.445766Z",
     "shell.execute_reply": "2023-07-06T05:09:01.444994Z",
     "shell.execute_reply.started": "2023-07-06T04:21:56.066457Z"
    },
    "papermill": {
     "duration": 0.053175,
     "end_time": "2023-07-06T05:09:01.445916",
     "exception": false,
     "start_time": "2023-07-06T05:09:01.392741",
     "status": "completed"
    },
    "tags": []
   },
   "outputs": [
    {
     "data": {
      "text/plain": [
       "1.0"
      ]
     },
     "execution_count": 24,
     "metadata": {},
     "output_type": "execute_result"
    }
   ],
   "source": [
    "tree.score(x_train,y_train)"
   ]
  },
  {
   "cell_type": "code",
   "execution_count": 25,
   "metadata": {
    "execution": {
     "iopub.execute_input": "2023-07-06T05:09:01.530806Z",
     "iopub.status.busy": "2023-07-06T05:09:01.529692Z",
     "iopub.status.idle": "2023-07-06T05:09:01.535085Z",
     "shell.execute_reply": "2023-07-06T05:09:01.534279Z",
     "shell.execute_reply.started": "2023-07-06T04:21:58.381778Z"
    },
    "papermill": {
     "duration": 0.051516,
     "end_time": "2023-07-06T05:09:01.535229",
     "exception": false,
     "start_time": "2023-07-06T05:09:01.483713",
     "status": "completed"
    },
    "tags": []
   },
   "outputs": [],
   "source": [
    "from sklearn.metrics import confusion_matrix\n",
    "clf = confusion_matrix(y_test,tree.predict(x_test))"
   ]
  },
  {
   "cell_type": "code",
   "execution_count": 26,
   "metadata": {
    "execution": {
     "iopub.execute_input": "2023-07-06T05:09:01.616345Z",
     "iopub.status.busy": "2023-07-06T05:09:01.615456Z",
     "iopub.status.idle": "2023-07-06T05:09:01.621013Z",
     "shell.execute_reply": "2023-07-06T05:09:01.619856Z",
     "shell.execute_reply.started": "2023-07-06T04:22:00.581358Z"
    },
    "papermill": {
     "duration": 0.048665,
     "end_time": "2023-07-06T05:09:01.621179",
     "exception": false,
     "start_time": "2023-07-06T05:09:01.572514",
     "status": "completed"
    },
    "tags": []
   },
   "outputs": [
    {
     "data": {
      "text/plain": [
       "array([[69,  0],\n",
       "       [ 0, 15]])"
      ]
     },
     "execution_count": 26,
     "metadata": {},
     "output_type": "execute_result"
    }
   ],
   "source": [
    "clf"
   ]
  },
  {
   "cell_type": "code",
   "execution_count": 27,
   "metadata": {
    "execution": {
     "iopub.execute_input": "2023-07-06T05:09:01.708334Z",
     "iopub.status.busy": "2023-07-06T05:09:01.707439Z",
     "iopub.status.idle": "2023-07-06T05:09:01.919514Z",
     "shell.execute_reply": "2023-07-06T05:09:01.918625Z",
     "shell.execute_reply.started": "2023-07-06T04:22:03.101394Z"
    },
    "papermill": {
     "duration": 0.259474,
     "end_time": "2023-07-06T05:09:01.919661",
     "exception": false,
     "start_time": "2023-07-06T05:09:01.660187",
     "status": "completed"
    },
    "tags": []
   },
   "outputs": [
    {
     "data": {
      "text/plain": [
       "<matplotlib.axes._subplots.AxesSubplot at 0x7f5531880410>"
      ]
     },
     "execution_count": 27,
     "metadata": {},
     "output_type": "execute_result"
    },
    {
     "data": {
      "image/png": "[encoded data removed]",
      "text/plain": [
       "<Figure size 432x288 with 2 Axes>"
      ]
     },
     "metadata": {
      "needs_background": "light"
     },
     "output_type": "display_data"
    }
   ],
   "source": [
    "sns.heatmap(clf,annot=True)"
   ]
  }
 ],
 "metadata": {
  "kernelspec": {
   "display_name": "Python 3",
   "language": "python",
   "name": "python3"
  },
  "language_info": {
   "codemirror_mode": {
    "name": "ipython",
    "version": 3
   },
   "file_extension": ".py",
   "mimetype": "text/x-python",
   "name": "python",
   "nbconvert_exporter": "python",
   "pygments_lexer": "ipython3",
   "version": "3.7.6"
  },
  "papermill": {
   "duration": 10.824118,
   "end_time": "2023-07-06T05:09:02.069412",
   "environment_variables": {},
   "exception": null,
   "input_path": "__notebook__.ipynb",
   "output_path": "__notebook__.ipynb",
   "parameters": {},
   "start_time": "2023-07-06T05:08:51.245294",
   "version": "2.1.0"
  }
 },
 "nbformat": 4,
 "nbformat_minor": 4
}
